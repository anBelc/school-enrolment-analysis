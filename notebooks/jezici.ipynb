{
 "cells": [
  {
   "cell_type": "code",
   "execution_count": 4,
   "metadata": {},
   "outputs": [],
   "source": [
    "import pandas as pd\n",
    "import numpy as np\n",
    "\n",
    "from collections import Counter"
   ]
  },
  {
   "cell_type": "code",
   "execution_count": 5,
   "metadata": {},
   "outputs": [
    {
     "name": "stdout",
     "output_type": "stream",
     "text": [
      "(36592, 6)\n",
      "(36592, 16)\n"
     ]
    }
   ],
   "source": [
    "df = pd.read_csv('data/data.csv')\n",
    "indicators = pd.read_csv('data/indicators.csv')\n",
    "print(df.shape)\n",
    "df = df.merge(indicators, on='indicatorId', how='left')\n",
    "print(df.shape)"
   ]
  },
  {
   "cell_type": "code",
   "execution_count": 6,
   "metadata": {},
   "outputs": [],
   "source": [
    "df = df[[ 'geoUnit', 'year', 'value', 'name', 'theme', 'disaggregations']]"
   ]
  },
  {
   "cell_type": "code",
   "execution_count": 7,
   "metadata": {},
   "outputs": [],
   "source": [
    "language = pd.read_json('data/all.json')"
   ]
  },
  {
   "cell_type": "code",
   "execution_count": 8,
   "metadata": {},
   "outputs": [],
   "source": [
    "language = language[['name', 'cca3', 'languages']]"
   ]
  },
  {
   "cell_type": "code",
   "execution_count": 9,
   "metadata": {},
   "outputs": [],
   "source": [
    "df = df.merge(language, how='inner', left_on='geoUnit', right_on='cca3')"
   ]
  },
  {
   "cell_type": "code",
   "execution_count": 10,
   "metadata": {},
   "outputs": [],
   "source": [
    "edu_map = {\n",
    "    'Enrolment in primary education, female (number)': 'Primary education',\n",
    "    'Enrolment in secondary education, female (number)': 'Secondary education',\n",
    "    'Enrolment in primary education, male (number)': 'Primary education',\n",
    "    'Enrolment in secondary education, male (number)': 'Secondary education',\n",
    "}\n",
    "\n",
    "m_f_map = {\n",
    "    'Enrolment in primary education, female (number)': 'f',\n",
    "    'Enrolment in secondary education, female (number)': 'f',\n",
    "    'Enrolment in primary education, male (number)': 'm',\n",
    "    'Enrolment in secondary education, male (number)': 'm',\n",
    "}"
   ]
  },
  {
   "cell_type": "code",
   "execution_count": 11,
   "metadata": {},
   "outputs": [],
   "source": [
    "df['Eduaction Level Enrolment'] = df.name_x.map(edu_map)\n",
    "df['Gender'] = df.name_x.map(m_f_map)"
   ]
  },
  {
   "cell_type": "code",
   "execution_count": 12,
   "metadata": {},
   "outputs": [],
   "source": [
    "df['Country'] = df.apply(lambda x: x['name_y']['common'], axis=1)"
   ]
  },
  {
   "cell_type": "code",
   "execution_count": 13,
   "metadata": {},
   "outputs": [],
   "source": [
    "df['Languages'] = df.apply(lambda x: x['languages'].values(), axis=1)"
   ]
  },
  {
   "cell_type": "code",
   "execution_count": 14,
   "metadata": {},
   "outputs": [],
   "source": [
    "df = df[['geoUnit', 'year', 'value', 'Eduaction Level Enrolment', 'Gender', 'Country', 'Languages']]"
   ]
  },
  {
   "cell_type": "code",
   "execution_count": 15,
   "metadata": {},
   "outputs": [],
   "source": [
    "# Convert dict_values to strings if necessary\n",
    "df[\"Languages\"] = df.apply(lambda x: list(x[\"Languages\"]), axis=1)\n",
    "\n",
    "df['num_lang'] = df.apply(lambda x: len(x['Languages']), axis=1)\n",
    "\n",
    "df['main_language'] = df.apply(lambda x: x[\"Languages\"][0], axis=1)"
   ]
  },
  {
   "cell_type": "code",
   "execution_count": 16,
   "metadata": {},
   "outputs": [],
   "source": [
    "df_expl = df.explode('Languages')\n",
    "\n",
    "\n",
    "df_expl['max_year'] = df_expl.groupby('Country')['year'].transform('max')"
   ]
  },
  {
   "cell_type": "code",
   "execution_count": 17,
   "metadata": {},
   "outputs": [],
   "source": [
    "mask1 = (df_expl.year == df_expl.max_year) & (df_expl.year>=2022)\n",
    "df1 = df_expl[mask1].groupby(\"Languages\")[[\"value\"]].sum().reset_index().rename(columns={'value': 'last_year'})"
   ]
  },
  {
   "cell_type": "code",
   "execution_count": 18,
   "metadata": {},
   "outputs": [],
   "source": [
    "mask2 = (df_expl.year == df_expl.max_year-1) & (df_expl.year>=2021)\n",
    "df2 = df_expl[mask2].groupby(\"Languages\")[[\"value\"]].sum().reset_index().rename(columns={'value': 'prev_year'})"
   ]
  },
  {
   "cell_type": "code",
   "execution_count": 19,
   "metadata": {},
   "outputs": [],
   "source": [
    "df1 = df1.merge(df2, on='Languages', how='left')"
   ]
  },
  {
   "cell_type": "code",
   "execution_count": 20,
   "metadata": {},
   "outputs": [],
   "source": [
    "df1['YoY (%)'] = (df1.last_year/df1.prev_year-1)*100"
   ]
  },
  {
   "cell_type": "code",
   "execution_count": 21,
   "metadata": {},
   "outputs": [
    {
     "data": {
      "text/html": [
       "<div>\n",
       "<style scoped>\n",
       "    .dataframe tbody tr th:only-of-type {\n",
       "        vertical-align: middle;\n",
       "    }\n",
       "\n",
       "    .dataframe tbody tr th {\n",
       "        vertical-align: top;\n",
       "    }\n",
       "\n",
       "    .dataframe thead th {\n",
       "        text-align: right;\n",
       "    }\n",
       "</style>\n",
       "<table border=\"1\" class=\"dataframe\">\n",
       "  <thead>\n",
       "    <tr style=\"text-align: right;\">\n",
       "      <th></th>\n",
       "      <th>Languages</th>\n",
       "      <th>last_year</th>\n",
       "      <th>prev_year</th>\n",
       "      <th>YoY (%)</th>\n",
       "    </tr>\n",
       "  </thead>\n",
       "  <tbody>\n",
       "    <tr>\n",
       "      <th>106</th>\n",
       "      <td>Swahili</td>\n",
       "      <td>32574494.0</td>\n",
       "      <td>10554126.0</td>\n",
       "      <td>208.642269</td>\n",
       "    </tr>\n",
       "    <tr>\n",
       "      <th>86</th>\n",
       "      <td>Papiamento</td>\n",
       "      <td>41436.0</td>\n",
       "      <td>17215.0</td>\n",
       "      <td>140.697067</td>\n",
       "    </tr>\n",
       "    <tr>\n",
       "      <th>80</th>\n",
       "      <td>Niuean</td>\n",
       "      <td>410.0</td>\n",
       "      <td>222.0</td>\n",
       "      <td>84.684685</td>\n",
       "    </tr>\n",
       "    <tr>\n",
       "      <th>32</th>\n",
       "      <td>French</td>\n",
       "      <td>91603117.0</td>\n",
       "      <td>61351450.0</td>\n",
       "      <td>49.308805</td>\n",
       "    </tr>\n",
       "    <tr>\n",
       "      <th>12</th>\n",
       "      <td>Bislama</td>\n",
       "      <td>113261.0</td>\n",
       "      <td>92189.0</td>\n",
       "      <td>22.857391</td>\n",
       "    </tr>\n",
       "    <tr>\n",
       "      <th>3</th>\n",
       "      <td>Arabic</td>\n",
       "      <td>59591144.0</td>\n",
       "      <td>54236642.0</td>\n",
       "      <td>9.872481</td>\n",
       "    </tr>\n",
       "    <tr>\n",
       "      <th>85</th>\n",
       "      <td>Palauan</td>\n",
       "      <td>2799.0</td>\n",
       "      <td>2571.0</td>\n",
       "      <td>8.868145</td>\n",
       "    </tr>\n",
       "    <tr>\n",
       "      <th>105</th>\n",
       "      <td>Spanish</td>\n",
       "      <td>89248311.0</td>\n",
       "      <td>83051327.0</td>\n",
       "      <td>7.461632</td>\n",
       "    </tr>\n",
       "    <tr>\n",
       "      <th>68</th>\n",
       "      <td>Maldivian</td>\n",
       "      <td>78619.0</td>\n",
       "      <td>73602.0</td>\n",
       "      <td>6.816391</td>\n",
       "    </tr>\n",
       "    <tr>\n",
       "      <th>122</th>\n",
       "      <td>Turkmen</td>\n",
       "      <td>1493441.0</td>\n",
       "      <td>1413687.0</td>\n",
       "      <td>5.641560</td>\n",
       "    </tr>\n",
       "    <tr>\n",
       "      <th>72</th>\n",
       "      <td>Mongolian</td>\n",
       "      <td>793790.0</td>\n",
       "      <td>751902.0</td>\n",
       "      <td>5.570939</td>\n",
       "    </tr>\n",
       "    <tr>\n",
       "      <th>75</th>\n",
       "      <td>Nauru</td>\n",
       "      <td>3479.0</td>\n",
       "      <td>3297.0</td>\n",
       "      <td>5.520170</td>\n",
       "    </tr>\n",
       "    <tr>\n",
       "      <th>16</th>\n",
       "      <td>Chewa</td>\n",
       "      <td>7567068.0</td>\n",
       "      <td>7186587.0</td>\n",
       "      <td>5.294321</td>\n",
       "    </tr>\n",
       "    <tr>\n",
       "      <th>66</th>\n",
       "      <td>Malagasy</td>\n",
       "      <td>5293936.0</td>\n",
       "      <td>5113497.0</td>\n",
       "      <td>3.528681</td>\n",
       "    </tr>\n",
       "    <tr>\n",
       "      <th>55</th>\n",
       "      <td>Kinyarwanda</td>\n",
       "      <td>3657605.0</td>\n",
       "      <td>3543007.0</td>\n",
       "      <td>3.234484</td>\n",
       "    </tr>\n",
       "    <tr>\n",
       "      <th>58</th>\n",
       "      <td>Kyrgyz</td>\n",
       "      <td>1493516.0</td>\n",
       "      <td>1447998.0</td>\n",
       "      <td>3.143513</td>\n",
       "    </tr>\n",
       "    <tr>\n",
       "      <th>50</th>\n",
       "      <td>Kazakh</td>\n",
       "      <td>4067592.0</td>\n",
       "      <td>3949426.0</td>\n",
       "      <td>2.991979</td>\n",
       "    </tr>\n",
       "    <tr>\n",
       "      <th>36</th>\n",
       "      <td>Gilbertese</td>\n",
       "      <td>34722.0</td>\n",
       "      <td>33720.0</td>\n",
       "      <td>2.971530</td>\n",
       "    </tr>\n",
       "    <tr>\n",
       "      <th>126</th>\n",
       "      <td>Uzbek</td>\n",
       "      <td>6836593.0</td>\n",
       "      <td>6655979.0</td>\n",
       "      <td>2.713560</td>\n",
       "    </tr>\n",
       "    <tr>\n",
       "      <th>42</th>\n",
       "      <td>Hungarian</td>\n",
       "      <td>1181310.0</td>\n",
       "      <td>1151360.0</td>\n",
       "      <td>2.601272</td>\n",
       "    </tr>\n",
       "  </tbody>\n",
       "</table>\n",
       "</div>"
      ],
      "text/plain": [
       "       Languages   last_year   prev_year     YoY (%)\n",
       "106      Swahili  32574494.0  10554126.0  208.642269\n",
       "86    Papiamento     41436.0     17215.0  140.697067\n",
       "80        Niuean       410.0       222.0   84.684685\n",
       "32        French  91603117.0  61351450.0   49.308805\n",
       "12       Bislama    113261.0     92189.0   22.857391\n",
       "3         Arabic  59591144.0  54236642.0    9.872481\n",
       "85       Palauan      2799.0      2571.0    8.868145\n",
       "105      Spanish  89248311.0  83051327.0    7.461632\n",
       "68     Maldivian     78619.0     73602.0    6.816391\n",
       "122      Turkmen   1493441.0   1413687.0    5.641560\n",
       "72     Mongolian    793790.0    751902.0    5.570939\n",
       "75         Nauru      3479.0      3297.0    5.520170\n",
       "16         Chewa   7567068.0   7186587.0    5.294321\n",
       "66      Malagasy   5293936.0   5113497.0    3.528681\n",
       "55   Kinyarwanda   3657605.0   3543007.0    3.234484\n",
       "58        Kyrgyz   1493516.0   1447998.0    3.143513\n",
       "50        Kazakh   4067592.0   3949426.0    2.991979\n",
       "36    Gilbertese     34722.0     33720.0    2.971530\n",
       "126        Uzbek   6836593.0   6655979.0    2.713560\n",
       "42     Hungarian   1181310.0   1151360.0    2.601272"
      ]
     },
     "execution_count": 21,
     "metadata": {},
     "output_type": "execute_result"
    }
   ],
   "source": [
    "df1.sort_values('YoY (%)', ascending=False).head(20)"
   ]
  },
  {
   "cell_type": "code",
   "execution_count": 22,
   "metadata": {},
   "outputs": [
    {
     "data": {
      "text/plain": [
       "Languages    AfrikaansAlbanianAmharicArabicArmenianAymaraAz...\n",
       "last_year                                    2217181379.841848\n",
       "prev_year                                    2104625809.162801\n",
       "YoY (%)                                             501.251758\n",
       "dtype: object"
      ]
     },
     "execution_count": 22,
     "metadata": {},
     "output_type": "execute_result"
    }
   ],
   "source": [
    "df1.sum()"
   ]
  },
  {
   "cell_type": "code",
   "execution_count": 25,
   "metadata": {},
   "outputs": [],
   "source": [
    "df_expl.to_excel('primary_secondary_enrolment_w_language.xlsx')"
   ]
  },
  {
   "cell_type": "code",
   "execution_count": null,
   "metadata": {},
   "outputs": [],
   "source": []
  }
 ],
 "metadata": {
  "kernelspec": {
   "display_name": ".venv",
   "language": "python",
   "name": "python3"
  },
  "language_info": {
   "codemirror_mode": {
    "name": "ipython",
    "version": 3
   },
   "file_extension": ".py",
   "mimetype": "text/x-python",
   "name": "python",
   "nbconvert_exporter": "python",
   "pygments_lexer": "ipython3",
   "version": "3.13.2"
  }
 },
 "nbformat": 4,
 "nbformat_minor": 2
}
